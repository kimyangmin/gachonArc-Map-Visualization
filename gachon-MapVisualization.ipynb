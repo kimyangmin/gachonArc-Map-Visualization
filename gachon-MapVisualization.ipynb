{
  "nbformat": 4,
  "nbformat_minor": 0,
  "metadata": {
    "colab": {
      "provenance": [],
      "authorship_tag": "ABX9TyN9rO1U6kSmvuyrvyzRzQLZ"
    },
    "kernelspec": {
      "name": "python3",
      "display_name": "Python 3"
    },
    "language_info": {
      "name": "python"
    }
  },
  "cells": [
    {
      "cell_type": "code",
      "execution_count": null,
      "metadata": {
        "id": "LQmNPQE0GGmT"
      },
      "outputs": [],
      "source": [
        "!pip install folium"
      ]
    },
    {
      "cell_type": "code",
      "source": [
        "import folium\n",
        "\n",
        "map = folium.Map(location=[36, 127], zoom_start=7)\n",
        "map"
      ],
      "metadata": {
        "id": "3Li3aAyqGRHw"
      },
      "execution_count": null,
      "outputs": []
    },
    {
      "cell_type": "code",
      "source": [
        "import folium\n",
        "\n",
        "map = folium.Map(location=[36,127],\n",
        "                 zoom_start=7,\n",
        "                 tiles='OpenStreetMap')\n",
        "map"
      ],
      "metadata": {
        "id": "uxhvxFR_GaEY"
      },
      "execution_count": null,
      "outputs": []
    },
    {
      "cell_type": "code",
      "source": [
        "import folium\n",
        "\n",
        "map = folium.Map(location=[36,127],\n",
        "                 zoom_start=7,\n",
        "                 tiles='CartoDB positron')\n",
        "\n",
        "map"
      ],
      "metadata": {
        "id": "KQ9dijFVGovQ"
      },
      "execution_count": null,
      "outputs": []
    },
    {
      "cell_type": "code",
      "source": [
        "import folium\n",
        "\n",
        "seoul = folium.Map(location=[37.450917, 127.128833],\n",
        "                   width=750,\n",
        "                   height=500,\n",
        "                   zoom_start=17)\n",
        "seoul"
      ],
      "metadata": {
        "id": "OEr0tUHZG8D4"
      },
      "execution_count": null,
      "outputs": []
    },
    {
      "cell_type": "code",
      "source": [
        "folium.Marker([37.450917, 127.128833],\n",
        "              popup='가천대학교',\n",
        "              tooltip='가천대학교 앞').add_to(seoul)\n",
        "seoul"
      ],
      "metadata": {
        "id": "TpA0iVWzG6sf"
      },
      "execution_count": null,
      "outputs": []
    },
    {
      "cell_type": "code",
      "source": [
        "folium.Marker([37.450917, 127.128833],\n",
        "              popup=' 가천대학교 ',\n",
        "              tooltip = ' 가천대학교 앞',\n",
        "              icon=folium.Icon(color='red', icon='star')\n",
        "              ).add_to(seoul)\n",
        "seoul"
      ],
      "metadata": {
        "id": "if4i5QxoHXiG"
      },
      "execution_count": null,
      "outputs": []
    },
    {
      "cell_type": "code",
      "source": [
        "import pandas as pd\n",
        "data = pd.read_excel('/content/전국초중등학교위치표준데이터.xlsx')\n",
        "data.head()"
      ],
      "metadata": {
        "id": "eKKMgIoyHuSS"
      },
      "execution_count": null,
      "outputs": []
    },
    {
      "cell_type": "code",
      "source": [
        "school = data[['학교명', '학교급구분', '소재지도로명주소', '위도', '경도']]\n",
        "school"
      ],
      "metadata": {
        "id": "ZGVRVp8qJJnu"
      },
      "execution_count": null,
      "outputs": []
    },
    {
      "cell_type": "code",
      "source": [
        "school_df = school[school['학교급구분'] == '초등학교']\n",
        "school_df"
      ],
      "metadata": {
        "id": "oaX_PPHqJSd3"
      },
      "execution_count": null,
      "outputs": []
    },
    {
      "cell_type": "code",
      "source": [
        "seoul_elem = school_df[school_df['소재지도로명주소'].str.contains('경기', na=False)]\n",
        "seoul_elem"
      ],
      "metadata": {
        "id": "Ck1RbvrJJY1W"
      },
      "execution_count": null,
      "outputs": []
    },
    {
      "cell_type": "code",
      "source": [
        "import folium\n",
        "\n",
        "map = folium.Map(location=[37.56, 126.97],\n",
        "                 zoom_start=12)\n",
        "map"
      ],
      "metadata": {
        "id": "SQOhN0SkJil-"
      },
      "execution_count": null,
      "outputs": []
    },
    {
      "cell_type": "code",
      "source": [
        "for i in seoul_elem.index:\n",
        "  name = seoul_elem.loc[i, '학교명']\n",
        "  lat = seoul_elem.loc[i, '위도']\n",
        "  lon = seoul_elem.loc[i, '경도']\n",
        "\n",
        "  marker = folium.Marker([lat, lon],\n",
        "                         popup = name,\n",
        "                         icon = folium.Icon(color='blue', icon='star')\n",
        "                         ).add_to(map)\n",
        "map"
      ],
      "metadata": {
        "id": "M-rVMp-2Jur-"
      },
      "execution_count": null,
      "outputs": []
    },
    {
      "cell_type": "code",
      "source": [
        "sejong = school[school['소재지도로명주소'].str.contains('세종', na=False)]\n",
        "sejong"
      ],
      "metadata": {
        "id": "PSJhbruBKKvo"
      },
      "execution_count": null,
      "outputs": []
    },
    {
      "cell_type": "code",
      "source": [
        "import folium\n",
        "map_sejong = folium.Map(location=[36.48, 127.28],\n",
        "                        zoom_start = 12)\n",
        "map_sejong"
      ],
      "metadata": {
        "id": "n2Axv-U0MJ8K"
      },
      "execution_count": null,
      "outputs": []
    },
    {
      "cell_type": "code",
      "source": [
        "for i in sejong.index:\n",
        "  name = sejong.loc[i, '학교명']\n",
        "  lat=sejong.loc[i, '위도']\n",
        "  lon=sejong.loc[i, '경도']\n",
        "\n",
        "  if sejong['학교급구분'][i] == '초등학교':\n",
        "    code_color = 'orange'\n",
        "    marker = folium.Marker([lat, lon],\n",
        "                           popum=name,\n",
        "                           icon=folium.Icon(color = code_color)).add_to(map_sejong)\n",
        "\n",
        "map_sejong"
      ],
      "metadata": {
        "id": "6rtax5JBMfKW"
      },
      "execution_count": null,
      "outputs": []
    },
    {
      "cell_type": "code",
      "source": [
        "for i in sejong.index:\n",
        "  name = sejong.loc[i, '학교명']\n",
        "  lat=sejong.loc[i, '위도']\n",
        "  lon=sejong.loc[i, '경도']\n",
        "\n",
        "  if sejong['학교급구분'][i] == '초등학교':\n",
        "    code_color = 'orange'\n",
        "  elif sejong['학교급구분'][i] == '중학교':\n",
        "    code_color = 'green'\n",
        "\n",
        "  marker = folium.Marker([lat, lon], popup = name, icon=folium.Icon(color=code_color)).add_to(map_sejong)\n",
        "map_sejong"
      ],
      "metadata": {
        "id": "x8Ry8a1pPqbO"
      },
      "execution_count": null,
      "outputs": []
    },
    {
      "cell_type": "code",
      "source": [
        "for i in sejong.index:\n",
        "  name = sejong.loc[i, '학교명']\n",
        "  lat = sejong.loc[i, '위도']\n",
        "  lon = sejong.loc[i, '경도']\n",
        "\n",
        "  if sejong['학교급구분'][i] == '초등학교':\n",
        "    code_color = 'orange'\n",
        "  elif sejong['학교급구분'][i] == '중학교':\n",
        "    code_color = 'green'\n",
        "  elif sejong['학교급구분'][i] == '고등학교':\n",
        "    code_color = 'blue'\n",
        "  marker = folium.Marker([lat, lon], popup=name, icon=folium.Icon(color=code_color)).add_to(map_sejong)\n",
        "map_sejong"
      ],
      "metadata": {
        "id": "XxexEZAmRBDW"
      },
      "execution_count": null,
      "outputs": []
    },
    {
      "cell_type": "code",
      "source": [
        "sengnam = school[school['소재지도로명주소'].str.contains('성남', na=False)]\n",
        "sengnam"
      ],
      "metadata": {
        "id": "ScmJ0gjERtXG"
      },
      "execution_count": null,
      "outputs": []
    },
    {
      "cell_type": "code",
      "source": [
        "import folium\n",
        "\n",
        "map_sengnam = folium.Map(location=[37.41, 127.12]\n",
        "                         , zoom_start = 12)\n",
        "map_sengnam"
      ],
      "metadata": {
        "id": "MbSYI7TXR7v9"
      },
      "execution_count": null,
      "outputs": []
    },
    {
      "cell_type": "code",
      "source": [
        "for i in sengnam.index:\n",
        "  name=sengnam.loc[i, '학교명']\n",
        "  lat = sengnam.loc[i, '위도']\n",
        "  lon = sengnam.loc[i, '경도']\n",
        "\n",
        "  if sengnam['학교급구분'][i] == '초등학교':\n",
        "    code_color = 'orange'\n",
        "  elif sengnam['학교급구분'][i] == '중학교':\n",
        "    code_color = 'green'\n",
        "  elif sengnam['학교급구분'][i] == '고등학교':\n",
        "    code_color = 'blue'\n",
        "\n",
        "  marker = folium.Marker([lat, lon], popup=name, icon= folium.Icon(color=code_color)).add_to(map_sengnam)\n",
        "map_sengnam"
      ],
      "metadata": {
        "id": "O-G_JkzOSHRl"
      },
      "execution_count": null,
      "outputs": []
    },
    {
      "cell_type": "code",
      "source": [
        "jeju = school[school['소재지도로명주소'].str.contains('제주', na=False)]\n",
        "jeju"
      ],
      "metadata": {
        "id": "35yHQiytUXh1"
      },
      "execution_count": null,
      "outputs": []
    },
    {
      "cell_type": "code",
      "source": [
        "import folium\n",
        "\n",
        "map_jeju = folium.Map(location=[33.348885, 126.280975]\n",
        "                         , zoom_start = 12)\n",
        "map_jeju"
      ],
      "metadata": {
        "id": "RXj6tSkpStD2"
      },
      "execution_count": null,
      "outputs": []
    },
    {
      "cell_type": "code",
      "source": [
        "for i in jeju.index:\n",
        "  name=jeju.loc[i, '학교명']\n",
        "  lat = jeju.loc[i, '위도']\n",
        "  lon = jeju.loc[i, '경도']\n",
        "\n",
        "  if jeju['학교급구분'][i] == '초등학교':\n",
        "    code_color = 'orange'\n",
        "  elif jeju['학교급구분'][i] == '중학교':\n",
        "    code_color = 'green'\n",
        "  elif jeju['학교급구분'][i] == '고등학교':\n",
        "    code_color = 'blue'\n",
        "\n",
        "  marker = folium.Marker([lat, lon], popup=name, icon= folium.Icon(color=code_color)).add_to(map_jeju)\n",
        "map_jeju"
      ],
      "metadata": {
        "id": "6gk1yhOrTen-"
      },
      "execution_count": null,
      "outputs": []
    }
  ]
}